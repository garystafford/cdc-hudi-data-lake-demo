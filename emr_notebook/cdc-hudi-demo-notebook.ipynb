{
 "cells": [
  {
   "cell_type": "markdown",
   "metadata": {},
   "source": [
    "# Building Data Lakes on AWS with Kafka Connect, Debezium, Apicurio Registry, and Apache Hudi\n",
    "\n",
    "Author: Gary Stafford\n",
    "\n",
    "Date: 2023-02-26\n",
    "\n",
    "EMR v6.9: hudi-spark: 0.12.1-amzn-0, spark-client: 3.3.0-amzn-1"
   ]
  },
  {
   "cell_type": "code",
   "execution_count": null,
   "metadata": {},
   "outputs": [],
   "source": [
    "%%configure -f\n",
    "\n",
    "{\n",
    "    \"conf\": {\n",
    "        \"spark.jars\": \"hdfs:///apps/hudi/lib/hudi-spark-bundle.jar,hdfs:///apps/hudi/lib/spark-avro.jar\",\n",
    "        \"spark.serializer\": \"org.apache.spark.serializer.KryoSerializer\",\n",
    "        \"spark.hadoop.hive.metastore.client.factory.class\": \"com.amazonaws.glue.catalog.metastore.AWSGlueDataCatalogHiveClientFactory\",\n",
    "        \"spark.sql.catalog.spark_catalog\": \"org.apache.spark.sql.hudi.catalog.HoodieCatalog\",\n",
    "        \"spark.sql.extensions\": \"org.apache.spark.sql.hudi.HoodieSparkSessionExtension\"\n",
    "    }\n",
    "}"
   ]
  },
  {
   "cell_type": "code",
   "execution_count": null,
   "metadata": {},
   "outputs": [],
   "source": [
    "from pyspark.sql import SparkSession\n",
    "\n",
    "spark = SparkSession \\\n",
    "    .builder \\\n",
    "    .enableHiveSupport() \\\n",
    "    .getOrCreate()"
   ]
  },
  {
   "cell_type": "code",
   "execution_count": null,
   "metadata": {
    "tags": []
   },
   "outputs": [],
   "source": [
    "base_path = \"s3://open-data-lake-demo-us-east-1/cdc_hudi_data_lake/silver/tickit.ecomm.sale\""
   ]
  },
  {
   "cell_type": "code",
   "execution_count": null,
   "metadata": {
    "tags": []
   },
   "outputs": [],
   "source": [
    "%%sql\n",
    "\n",
    "-- query aws glue data catalog #1\n",
    "\n",
    "select _hoodie_commit_time, \n",
    "    __op, \n",
    "    salesid, \n",
    "    qtysold, \n",
    "    pricepaid, \n",
    "    commission\n",
    "from `tickit_cdc_hudi`.`sale`\n",
    "where salesid = 200"
   ]
  },
  {
   "cell_type": "code",
   "execution_count": null,
   "metadata": {
    "tags": []
   },
   "outputs": [],
   "source": [
    "%%sql\n",
    "\n",
    "-- query aws glue data catalog #2\n",
    "\n",
    "select _hoodie_commit_time, \n",
    "    __op, \n",
    "    salesid, \n",
    "    qtysold, \n",
    "    pricepaid, \n",
    "    commission\n",
    "from `tickit_cdc_hudi`.`sale`\n",
    "where salesid = 200\n",
    "    and _hoodie_commit_time = \"2023-02-27 03:17:13:915\""
   ]
  },
  {
   "cell_type": "code",
   "execution_count": null,
   "metadata": {
    "tags": []
   },
   "outputs": [],
   "source": [
    "columns = [\"_hoodie_commit_time\", \"__op\", \"salesid\", \"qtysold\", \"pricepaid\", \"commission\"]"
   ]
  },
  {
   "cell_type": "code",
   "execution_count": null,
   "metadata": {
    "tags": []
   },
   "outputs": [],
   "source": [
    "# load the hudi data files dataframe\n",
    "df = (spark.read\n",
    "      .format(\"hudi\")\n",
    "      .load(base_path))\n",
    "\n",
    "(df.filter(df.salesid == 200)\n",
    "    .select(columns)\n",
    "    .show())"
   ]
  },
  {
   "cell_type": "code",
   "execution_count": null,
   "metadata": {
    "tags": []
   },
   "outputs": [],
   "source": [
    "# load the hudi data files dataframe\n",
    "\n",
    "df = (spark.read\n",
    "      .format(\"hudi\")\n",
    "      .load(base_path))\n",
    "\n",
    "(df.filter((df.salesid == 200) & (df.__op != \"d\"))\n",
    "    .select(columns)\n",
    "    .show())"
   ]
  },
  {
   "cell_type": "code",
   "execution_count": null,
   "metadata": {
    "tags": []
   },
   "outputs": [],
   "source": [
    "# hudi time travel query #1\n",
    "\n",
    "instant_time = \"2023-02-27 03:17:13.915\"\n",
    "\n",
    "read_options = {\n",
    "    \"as.of.instant\": instant_time,\n",
    "}\n",
    "\n",
    "df = (spark.read\n",
    "      .format(\"hudi\")\n",
    "      .options(**read_options)\n",
    "      .load(base_path))\n",
    "\n",
    "(df.filter(df.salesid == 200)\n",
    "    .select(columns)\n",
    "    .show())"
   ]
  },
  {
   "cell_type": "code",
   "execution_count": null,
   "metadata": {
    "tags": []
   },
   "outputs": [],
   "source": [
    "# hudi time travel query #1\n",
    "\n",
    "instant_time = \"2023-02-27 03:17:13.915\"\n",
    "\n",
    "read_options = {\n",
    "    \"as.of.instant\": instant_time,\n",
    "}\n",
    "\n",
    "df = (spark.read\n",
    "      .format(\"hudi\")\n",
    "      .options(**read_options)\n",
    "      .load(base_path))\n",
    "\n",
    "(df.filter(df.salesid == 200)\n",
    "    .select(columns)\n",
    "    .show())"
   ]
  },
  {
   "cell_type": "code",
   "execution_count": null,
   "metadata": {
    "tags": []
   },
   "outputs": [],
   "source": [
    "# hudi time travel query #2\n",
    "\n",
    "instant_time = \"2023-02-27 03:15:00.000\"\n",
    "\n",
    "read_options = {\n",
    "    \"as.of.instant\": instant_time,\n",
    "}\n",
    "\n",
    "df = (spark.read\n",
    "      .format(\"hudi\")\n",
    "      .options(**read_options)\n",
    "      .load(base_path))\n",
    "\n",
    "(df.filter(df.salesid == 200)\n",
    "    .select(columns)\n",
    "    .show())"
   ]
  },
  {
   "cell_type": "code",
   "execution_count": null,
   "metadata": {
    "tags": []
   },
   "outputs": [],
   "source": [
    "# hudi point in time query #2\n",
    "\n",
    "begin_time = \"202302270313\" # 2023-02-27 03:13\n",
    "end_time = \"202302270315\" # 2023-02-27 03:15\n",
    "\n",
    "read_options = {\n",
    "    \"hoodie.datasource.query.type\": \"incremental\",\n",
    "    \"hoodie.datasource.read.begin.instanttime\": begin_time,\n",
    "    \"hoodie.datasource.read.end.instanttime\": end_time\n",
    "}\n",
    "\n",
    "df = (spark.read\n",
    "      .format(\"hudi\")\n",
    "      .options(**read_options)\n",
    "      .load(base_path))\n",
    "\n",
    "(df.filter(df.salesid == 200)\n",
    "    .select(columns)\n",
    "    .show())"
   ]
  },
  {
   "cell_type": "code",
   "execution_count": null,
   "metadata": {
    "tags": []
   },
   "outputs": [],
   "source": [
    "# hudi point in time query #1\n",
    "\n",
    "begin_time = \"000\"\n",
    "end_time = \"20230228\" # 2023-02-28 00:00\n",
    "\n",
    "read_options = {\n",
    "    \"hoodie.datasource.query.type\": \"incremental\",\n",
    "    \"hoodie.datasource.read.begin.instanttime\": begin_time,\n",
    "    \"hoodie.datasource.read.end.instanttime\": end_time\n",
    "}\n",
    "\n",
    "df = (spark.read\n",
    "      .format(\"hudi\")\n",
    "      .options(**read_options)\n",
    "      .load(base_path))\n",
    "\n",
    "(df.filter(df.salesid == 200)\n",
    "    .select(columns)\n",
    "    .show())"
   ]
  }
 ],
 "metadata": {
  "kernelspec": {
   "display_name": "PySpark",
   "language": "python",
   "name": "pysparkkernel"
  },
  "language_info": {
   "codemirror_mode": {
    "name": "python",
    "version": 3
   },
   "file_extension": ".py",
   "mimetype": "text/x-python",
   "name": "pyspark",
   "pygments_lexer": "python3"
  }
 },
 "nbformat": 4,
 "nbformat_minor": 4
}
